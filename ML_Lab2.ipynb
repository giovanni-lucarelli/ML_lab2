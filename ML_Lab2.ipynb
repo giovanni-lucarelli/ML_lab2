{
  "nbformat": 4,
  "nbformat_minor": 0,
  "metadata": {
    "colab": {
      "provenance": [],
      "authorship_tag": "ABX9TyNzZUkBwK8624badAO2qWMs",
      "include_colab_link": true
    },
    "kernelspec": {
      "name": "python3",
      "display_name": "Python 3"
    },
    "language_info": {
      "name": "python"
    }
  },
  "cells": [
    {
      "cell_type": "markdown",
      "metadata": {
        "id": "view-in-github",
        "colab_type": "text"
      },
      "source": [
        "<a href=\"https://colab.research.google.com/github/giovanni-lucarelli/ML_lab2/blob/main/ML_Lab2.ipynb\" target=\"_parent\"><img src=\"https://colab.research.google.com/assets/colab-badge.svg\" alt=\"Open In Colab\"/></a>"
      ]
    },
    {
      "cell_type": "code",
      "execution_count": null,
      "metadata": {
        "id": "45ZtyGfPuHzE"
      },
      "outputs": [],
      "source": [
        "import pandas as pd\n",
        "Data = pd.read_csv('DataCoSupplyChainDataset.csv', encoding='latin1')"
      ]
    },
    {
      "cell_type": "code",
      "source": [
        "Data1 = Data.drop(columns=['Days for shipping (real)', 'Days for shipment (scheduled)','Delivery Status','Order Zipcode','Customer Password', 'Product Description', 'Product Image','Customer Email', 'Customer Fname', 'Customer Lname'], inplace=False)\n",
        "Data1 = Data1[~(Data1.isnull().sum(axis=1) >= 1)]\n",
        "Data1.columns"
      ],
      "metadata": {
        "id": "BFp9DTT6zDNJ",
        "colab": {
          "base_uri": "https://localhost:8080/"
        },
        "outputId": "b21e72b3-d6df-48dd-93d2-45d0218a29e2"
      },
      "execution_count": null,
      "outputs": [
        {
          "output_type": "execute_result",
          "data": {
            "text/plain": [
              "Index(['Type', 'Benefit per order', 'Sales per customer', 'Late_delivery_risk',\n",
              "       'Category Id', 'Category Name', 'Customer City', 'Customer Country',\n",
              "       'Customer Id', 'Customer Segment', 'Customer State', 'Customer Street',\n",
              "       'Customer Zipcode', 'Department Id', 'Department Name', 'Latitude',\n",
              "       'Longitude', 'Market', 'Order City', 'Order Country',\n",
              "       'Order Customer Id', 'order date (DateOrders)', 'Order Id',\n",
              "       'Order Item Cardprod Id', 'Order Item Discount',\n",
              "       'Order Item Discount Rate', 'Order Item Id', 'Order Item Product Price',\n",
              "       'Order Item Profit Ratio', 'Order Item Quantity', 'Sales',\n",
              "       'Order Item Total', 'Order Profit Per Order', 'Order Region',\n",
              "       'Order State', 'Order Status', 'Product Card Id', 'Product Category Id',\n",
              "       'Product Name', 'Product Price', 'Product Status',\n",
              "       'shipping date (DateOrders)', 'Shipping Mode'],\n",
              "      dtype='object')"
            ]
          },
          "metadata": {},
          "execution_count": 17
        }
      ]
    },
    {
      "cell_type": "markdown",
      "source": [
        "Target variable: Late_delivery_risk"
      ],
      "metadata": {
        "id": "TLiXw7yUB4wt"
      }
    },
    {
      "cell_type": "code",
      "source": [
        "from sklearn.model_selection import train_test_split\n",
        "from sklearn.ensemble import RandomForestClassifier\n",
        "from sklearn.metrics import accuracy_score\n",
        "from sklearn.preprocessing import OrdinalEncoder\n",
        "\n",
        "X = Data1.drop(columns=['Late_delivery_risk'], inplace=False)\n",
        "y = Data1['Late_delivery_risk']\n",
        "\n",
        "# Assuming X contains your features before encoding\n",
        "categorical_cols = X.select_dtypes(include=['object']).columns\n",
        "\n",
        "# Initialize the OrdinalEncoder\n",
        "encoder = OrdinalEncoder()\n",
        "\n",
        "# Encode the categorical features\n",
        "X[categorical_cols] = encoder.fit_transform(X[categorical_cols])\n",
        "# Split into train and test sets\n",
        "X_train, X_test, y_train, y_test = train_test_split(X, y, test_size=0.3, random_state=42)\n"
      ],
      "metadata": {
        "id": "X0ZhyMaBNMq_"
      },
      "execution_count": null,
      "outputs": []
    },
    {
      "cell_type": "code",
      "source": [
        "# Train the Random Forest model\n",
        "rf = RandomForestClassifier(random_state=42)\n",
        "rf.fit(X_train, y_train)\n",
        "\n",
        "# Predict on the test set\n",
        "y_pred = rf.predict(X_test)\n",
        "\n",
        "# Evaluate the model\n",
        "accuracy = accuracy_score(y_test, y_pred)\n",
        "print(f'Accuracy: {accuracy}')"
      ],
      "metadata": {
        "id": "cjJgGBRlB92L",
        "colab": {
          "base_uri": "https://localhost:8080/"
        },
        "outputId": "c51e6d40-984a-4dbb-e3cd-f069d5e02e63"
      },
      "execution_count": null,
      "outputs": [
        {
          "output_type": "stream",
          "name": "stdout",
          "text": [
            "Accuracy: 0.8767611485550734\n"
          ]
        }
      ]
    },
    {
      "cell_type": "markdown",
      "source": [
        "To compare only the accuracy of the various learning technique maybe its not enough. Could be better to give also a statistical significance testing, ROC curve etc."
      ],
      "metadata": {
        "id": "VAyqjWSmQlIh"
      }
    },
    {
      "cell_type": "code",
      "source": [
        "from sklearn.svm import SVC\n",
        "from sklearn.metrics import accuracy_score, precision_score, recall_score, f1_score, confusion_matrix, roc_auc_score\n",
        "import matplotlib.pyplot as plt\n",
        "from sklearn.metrics import roc_curve\n",
        "\n",
        "svm_model = SVC(random_state=42, probability=True)  # Use probability=True for ROC AUC\n",
        "svm_model.fit(X_train, y_train)\n",
        "\n",
        "# Step 4: Make predictions on the test set\n",
        "y_pred = svm_model.predict(X_test)\n",
        "y_pred_proba = svm_model.predict_proba(X_test)[:, 1]  # Get probabilities for ROC AUC\n",
        "\n",
        "# Step 5: Evaluate the model\n",
        "accuracy = accuracy_score(y_test, y_pred)\n",
        "precision = precision_score(y_test, y_pred)\n",
        "recall = recall_score(y_test, y_pred)\n",
        "f1 = f1_score(y_test, y_pred)\n",
        "roc_auc = roc_auc_score(y_test, y_pred_proba)\n",
        "cm = confusion_matrix(y_test, y_pred)\n",
        "\n",
        "# Print evaluation metrics\n",
        "print(f\"Accuracy: {accuracy:.2f}\")\n",
        "print(f\"Precision: {precision:.2f}\")\n",
        "print(f\"Recall: {recall:.2f}\")\n",
        "print(f\"F1-Score: {f1:.2f}\")\n",
        "print(f\"ROC AUC: {roc_auc:.2f}\")\n",
        "print(f\"Confusion Matrix:\\n{cm}\")\n",
        "\n",
        "# Step 6: Plot ROC Curve\n",
        "fpr, tpr, _ = roc_curve(y_test, y_pred_proba)\n",
        "plt.plot(fpr, tpr, label=\"ROC curve\")\n",
        "plt.plot([0, 1], [0, 1], 'k--')  # Diagonal line\n",
        "plt.xlabel(\"False Positive Rate\")\n",
        "plt.ylabel(\"True Positive Rate\")\n",
        "plt.title(\"Receiver Operating Characteristic (ROC) Curve\")\n",
        "plt.legend(loc=\"best\")\n",
        "plt.show()"
      ],
      "metadata": {
        "id": "Zjyt1uGkRLzz"
      },
      "execution_count": null,
      "outputs": []
    }
  ]
}